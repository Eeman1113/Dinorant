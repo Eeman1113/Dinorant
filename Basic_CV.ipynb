{
 "cells": [
  {
   "cell_type": "code",
   "execution_count": 2,
   "metadata": {},
   "outputs": [],
   "source": [
    "import cv2\n",
    "import cvzone\n",
    "import numpy as np\n",
    "import pyautogui\n",
    "from cvzone.FPS import FPS\n",
    "from mss import mss"
   ]
  },
  {
   "cell_type": "code",
   "execution_count": 3,
   "metadata": {},
   "outputs": [],
   "source": [
    "\n",
    "fpsReader = FPS()\n",
    "\n",
    "def capture_screen_region_opencv(x, y, desired_width, desired_height):\n",
    "    screenshot = pyautogui.screenshot(region=(x, y, desired_width, desired_height))\n",
    "    screenshot = np.array(screenshot)\n",
    "    screenshot = cv2.cvtColor(screenshot, cv2.COLOR_RGB2BGR)\n",
    "    return screenshot\n",
    "\n",
    "def capture_screen_region_opencv_mss(x, y, width, height):\n",
    "    with mss() as sct:\n",
    "        monitor = {\"top\": y, \"left\": x, \"width\": width, \"height\": height}\n",
    "        screenshot = sct.grab(monitor)\n",
    "        # Convert to an OpenCV image\n",
    "        img = np.array(screenshot)\n",
    "        img = cv2.cvtColor(img, cv2.COLOR_BGRA2BGR)  # Convert from BGRA to BGR\n",
    "        return img\n",
    "    \n",
    "def pre_process(_imgCrop):\n",
    "    # Convert to grayscale for thresholding\n",
    "    gray_frame = cv2.cvtColor(_imgCrop, cv2.COLOR_BGR2GRAY)\n",
    "    # Apply thresholding to the grayscale image\n",
    "    _, binary_frame = cv2.threshold(gray_frame, 127, 255, cv2.THRESH_BINARY_INV)\n",
    "    # canny image\n",
    "    canny_frame = cv2.Canny(binary_frame, 50, 50)\n",
    "    # dilate image\n",
    "    kernel = np.ones((5, 5))\n",
    "    dilated_frame = cv2.dilate(canny_frame, kernel, iterations=2)\n",
    "    return dilated_frame\n",
    "\n",
    "def find_obstacles(_imgCrop, _imgPre):\n",
    "    imgContours, conFound = cvzone.findContours(_imgCrop, _imgPre, minArea=100, filter=None)\n",
    "    return imgContours, conFound\n",
    "\n",
    "def game_logic(conFound, _imgContours, jump_distance=65):\n",
    "    if conFound:\n",
    "        # left most contour\n",
    "        left_most_contour = sorted(conFound, key=lambda x: x[\"bbox\"][0])\n",
    "\n",
    "        cv2.line(_imgContours, (0, left_most_contour[0][\"bbox\"][1] + 10),\n",
    "                (left_most_contour[0][\"bbox\"][0], left_most_contour[0][\"bbox\"][1] + 10), (0, 200, 0), 10)\n",
    "\n",
    "        # draw line on screenShotGame from left most contour\n",
    "        if left_most_contour[0][\"bbox\"][0] < jump_distance:\n",
    "            pyautogui.press(\"space\")\n",
    "            print(\"jump\")\n",
    "    return _imgContours"
   ]
  },
  {
   "cell_type": "code",
   "execution_count": null,
   "metadata": {},
   "outputs": [],
   "source": [
    "while True:\n",
    "    # Step 1 - Capture the screen region of game\n",
    "    imgGame = capture_screen_region_opencv_mss(450, 300, 650, 200)\n",
    "\n",
    "    # Step 2 - Crop the image to the desired region\n",
    "    cp = 100, 140, 110\n",
    "    imgCrop = imgGame[cp[0]:cp[1], cp[2]:]\n",
    "\n",
    "    # Step 3 - Pre Process Image\n",
    "    imgPre = pre_process(imgCrop)\n",
    "\n",
    "    # Step 4 - Find Obstacles\n",
    "    imgContours, conFound = find_obstacles(imgCrop, imgPre)\n",
    "\n",
    "    # Step 5 - Apply Game Logic\n",
    "    imgContours = game_logic(conFound, imgContours)\n",
    "\n",
    "    # # Step 6 - Display the Result\n",
    "    imgGame[cp[0]:cp[1], cp[2]:] = imgContours\n",
    "\n",
    "    fps, imgGame = fpsReader.update(imgGame)\n",
    "\n",
    "    cv2.imshow(\"Game\", imgGame)\n",
    "    # cv2.imshow(\"imgCrop\", imgContours)\n",
    "    # cv2.imshow(\"imgPre\", imgPre)\n",
    "    cv2.waitKey(1)"
   ]
  }
 ],
 "metadata": {
  "kernelspec": {
   "display_name": "Python 3",
   "language": "python",
   "name": "python3"
  },
  "language_info": {
   "codemirror_mode": {
    "name": "ipython",
    "version": 3
   },
   "file_extension": ".py",
   "mimetype": "text/x-python",
   "name": "python",
   "nbconvert_exporter": "python",
   "pygments_lexer": "ipython3",
   "version": "3.9.18"
  }
 },
 "nbformat": 4,
 "nbformat_minor": 2
}
